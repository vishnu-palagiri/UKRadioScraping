{
 "cells": [
  {
   "cell_type": "code",
   "execution_count": 1,
   "id": "2ac6f6e7",
   "metadata": {},
   "outputs": [],
   "source": [
    "import time\n",
    "import re\n",
    "import pandas as pd\n",
    "import requests\n",
    "import json\n",
    "from bs4 import BeautifulSoup"
   ]
  },
  {
   "cell_type": "code",
   "execution_count": 8,
   "id": "55ec9142",
   "metadata": {},
   "outputs": [],
   "source": [
    "class RadioUKScraper:\n",
    "    def __init__(self):\n",
    "        self.base_url = 'https://www.radio-uk.co.uk'\n",
    "        self.all_channels = []\n",
    "        self.channel_file = 'all_channels.json'\n",
    "        self.channel_data_file = 'channel_data.json'\n",
    "        self.data = []\n",
    "        self.channel_no = 0\n",
    "\n",
    "    def get_channel_urls(self, overwrite=False):\n",
    "        if not overwrite:\n",
    "            try:\n",
    "                with open(self.channel_file, 'r', encoding='utf-8') as f:\n",
    "                    self.all_channels = json.load(f)\n",
    "                return f\"SUCCESS: Channel URLs loaded from {self.channel_file} with {len(self.all_channels)} entries.\"\n",
    "            except FileNotFoundError:\n",
    "                print(f\"File {self.channel_file} not found. Fetching channel URLs...\")\n",
    "                overwrite = True\n",
    "        if overwrite:\n",
    "            for x in range(1, 62):\n",
    "                soup = BeautifulSoup(requests.get(f'{self.base_url}/?page={x}').text, 'html.parser')\n",
    "                for tile in soup.select('.mdc-grid-tile'):\n",
    "                    title_tag = tile.select_one('.mdc-grid-tile__title')\n",
    "                    a_tag = tile.find('a', href=True)\n",
    "                    if title_tag and a_tag:\n",
    "                        title = title_tag.get_text(strip=True)\n",
    "                        href = a_tag['href']\n",
    "                        self.all_channels.append({'title': title, 'href': href})\n",
    "\n",
    "            # Writing it back as a JSON File\n",
    "            with open(self.channel_file, 'w', encoding='utf-8') as f:\n",
    "                json.dump(self.all_channels, f, ensure_ascii=False, indent=2)\n",
    "        return f\"SUCCESS: Channel URLs for {len(self.all_channels)} fetched successfully.\"\n",
    "    \n",
    "    def scrape_channel_data(self, use_file=True):\n",
    "        current_run = 0\n",
    "        if use_file:\n",
    "            try:\n",
    "                with open(self.channel_data_file, 'r', encoding='utf-8') as f:\n",
    "                    self.data = json.load(f)\n",
    "                    self.channel_no = len(self.data)\n",
    "                    print(f\"Loaded {self.channel_no} channels from {self.channel_data_file}.\")\n",
    "            except FileNotFoundError:\n",
    "                print(f\"File {self.channel_data_file} not found. Starting fresh scrape.\")\n",
    "        \n",
    "        for channel in self.all_channels:\n",
    "            if current_run < self.channel_no:\n",
    "                print(f\"Skipping channel {current_run}/{len(self.all_channels)}: {channel['title']} since already run priorly.\", end='\\r')\n",
    "            else:\n",
    "                print(f\"------------ Processing channel: {channel['title']} --- {self.channel_no + 1}/{len(self.all_channels)} ---------------------\", end='\\r')\n",
    "                soup = BeautifulSoup(requests.get(self.base_url + channel['href']).text, 'html.parser')\n",
    "\n",
    "                frequencies = ','.join([x.text.strip() for x in soup.select('.frequency-item')])\n",
    "                if frequencies == '':\n",
    "                    frequencies = 'Internet/Community'\n",
    "                email = ','.join([x.text for x in soup.select('span.small-margin-top-bottom') if \"@\" in x.text])\n",
    "                categories = ''.join([','.join(list(x.stripped_strings)[1:]) for x in soup.select('.categories')])\n",
    "                self.data.append({\n",
    "                    'title': channel['title'],\n",
    "                    'href': self.base_url + channel['href'],\n",
    "                    'frequencies': frequencies,\n",
    "                    'email': email,\n",
    "                    'categories': categories\n",
    "                })\n",
    "                self.channel_no += 1\n",
    "                if (current_run % 300 == 0) or (current_run == len(self.all_channels) - 1):\n",
    "                    print(f\"Processed {current_run} channels so far. Saving progress...\")\n",
    "                    with open(self.channel_data_file, 'w', encoding='utf-8') as f:\n",
    "                        json.dump(self.data, f, ensure_ascii=False, indent=2)\n",
    "            current_run += 1\n",
    "        return self.data"
   ]
  },
  {
   "cell_type": "code",
   "execution_count": 9,
   "id": "8204c82c",
   "metadata": {},
   "outputs": [],
   "source": [
    "radiouk = RadioUKScraper()"
   ]
  },
  {
   "cell_type": "code",
   "execution_count": 10,
   "id": "b9300607",
   "metadata": {},
   "outputs": [
    {
     "data": {
      "text/plain": [
       "'SUCCESS: Channel URLs loaded from all_channels.json with 3665 entries.'"
      ]
     },
     "execution_count": 10,
     "metadata": {},
     "output_type": "execute_result"
    }
   ],
   "source": [
    "radiouk.get_channel_urls(overwrite=False)"
   ]
  },
  {
   "cell_type": "code",
   "execution_count": 11,
   "id": "09986c13",
   "metadata": {},
   "outputs": [
    {
     "name": "stdout",
     "output_type": "stream",
     "text": [
      "Loaded 3601 channels from channel_data.json.\n",
      "Processed 3664 channels so far. Saving progress...s Report --- 3665/3665 ---------------------------5 ---------------------\n"
     ]
    }
   ],
   "source": [
    "predf = radiouk.scrape_channel_data(use_file=True)"
   ]
  },
  {
   "cell_type": "code",
   "execution_count": 14,
   "id": "3b83041e",
   "metadata": {},
   "outputs": [],
   "source": [
    "pd.DataFrame(predf).to_csv('radiouk_channels.csv', index=False, encoding='utf-8-sig')"
   ]
  }
 ],
 "metadata": {
  "kernelspec": {
   "display_name": "base",
   "language": "python",
   "name": "python3"
  },
  "language_info": {
   "codemirror_mode": {
    "name": "ipython",
    "version": 3
   },
   "file_extension": ".py",
   "mimetype": "text/x-python",
   "name": "python",
   "nbconvert_exporter": "python",
   "pygments_lexer": "ipython3",
   "version": "3.11.5"
  }
 },
 "nbformat": 4,
 "nbformat_minor": 5
}
